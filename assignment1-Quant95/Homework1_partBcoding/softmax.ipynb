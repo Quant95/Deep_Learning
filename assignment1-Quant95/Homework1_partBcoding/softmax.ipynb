{
 "cells": [
  {
   "cell_type": "markdown",
   "metadata": {},
   "source": [
    "# Softmax exercise\n",
    "\n",
    "*Complete and hand in this completed worksheet (including its outputs and any supporting code outside of the worksheet) with your assignment submission. For more details see the [assignments page](http://vision.stanford.edu/teaching/cs231n/assignments.html) on the course website.*\n",
    "\n",
    "This exercise is analogous to the SVM exercise. You will:\n",
    "\n",
    "- implement a fully-vectorized **loss function** for the Softmax classifier\n",
    "- implement the fully-vectorized expression for its **analytic gradient**\n",
    "- **check your implementation** with numerical gradient\n",
    "- use a validation set to **tune the learning rate and regularization** strength\n",
    "- **optimize** the loss function with **SGD**\n",
    "- **visualize** the final learned weights\n"
   ]
  },
  {
   "cell_type": "code",
   "execution_count": 1,
   "metadata": {},
   "outputs": [],
   "source": [
    "import random\n",
    "import numpy as np\n",
    "from cs231n.data_utils import load_CIFAR10\n",
    "import matplotlib.pyplot as plt\n",
    "\n",
    "from __future__ import print_function\n",
    "\n",
    "%matplotlib inline\n",
    "plt.rcParams['figure.figsize'] = (10.0, 8.0) # set default size of plots\n",
    "plt.rcParams['image.interpolation'] = 'nearest'\n",
    "plt.rcParams['image.cmap'] = 'gray'\n",
    "\n",
    "# for auto-reloading extenrnal modules\n",
    "# see http://stackoverflow.com/questions/1907993/autoreload-of-modules-in-ipython\n",
    "%load_ext autoreload\n",
    "%autoreload 2"
   ]
  },
  {
   "cell_type": "code",
   "execution_count": 2,
   "metadata": {},
   "outputs": [
    {
     "name": "stdout",
     "output_type": "stream",
     "text": [
      "Train data shape:  (49000, 3073)\n",
      "Train labels shape:  (49000,)\n",
      "Validation data shape:  (1000, 3073)\n",
      "Validation labels shape:  (1000,)\n",
      "Test data shape:  (1000, 3073)\n",
      "Test labels shape:  (1000,)\n",
      "dev data shape:  (500, 3073)\n",
      "dev labels shape:  (500,)\n"
     ]
    }
   ],
   "source": [
    "def get_CIFAR10_data(num_training=49000, num_validation=1000, num_test=1000, num_dev=500):\n",
    "    \"\"\"\n",
    "    Load the CIFAR-10 dataset from disk and perform preprocessing to prepare\n",
    "    it for the linear classifier. These are the same steps as we used for the\n",
    "    SVM, but condensed to a single function.  \n",
    "    \"\"\"\n",
    "    # Load the raw CIFAR-10 data\n",
    "    cifar10_dir = 'cs231n/datasets/cifar-10-batches-py'\n",
    "    \n",
    "    X_train, y_train, X_test, y_test = load_CIFAR10(cifar10_dir)\n",
    "    \n",
    "    # subsample the data\n",
    "    mask = list(range(num_training, num_training + num_validation))\n",
    "    X_val = X_train[mask]\n",
    "    y_val = y_train[mask]\n",
    "    mask = list(range(num_training))\n",
    "    X_train = X_train[mask]\n",
    "    y_train = y_train[mask]\n",
    "    mask = list(range(num_test))\n",
    "    X_test = X_test[mask]\n",
    "    y_test = y_test[mask]\n",
    "    mask = np.random.choice(num_training, num_dev, replace=False)\n",
    "    X_dev = X_train[mask]\n",
    "    y_dev = y_train[mask]\n",
    "    \n",
    "    # Preprocessing: reshape the image data into rows\n",
    "    X_train = np.reshape(X_train, (X_train.shape[0], -1))\n",
    "    X_val = np.reshape(X_val, (X_val.shape[0], -1))\n",
    "    X_test = np.reshape(X_test, (X_test.shape[0], -1))\n",
    "    X_dev = np.reshape(X_dev, (X_dev.shape[0], -1))\n",
    "    \n",
    "    # Normalize the data: subtract the mean image\n",
    "    mean_image = np.mean(X_train, axis = 0)\n",
    "    X_train -= mean_image\n",
    "    X_val -= mean_image\n",
    "    X_test -= mean_image\n",
    "    X_dev -= mean_image\n",
    "    \n",
    "    # add bias dimension and transform into columns\n",
    "    X_train = np.hstack([X_train, np.ones((X_train.shape[0], 1))])\n",
    "    X_val = np.hstack([X_val, np.ones((X_val.shape[0], 1))])\n",
    "    X_test = np.hstack([X_test, np.ones((X_test.shape[0], 1))])\n",
    "    X_dev = np.hstack([X_dev, np.ones((X_dev.shape[0], 1))])\n",
    "    \n",
    "    return X_train, y_train, X_val, y_val, X_test, y_test, X_dev, y_dev\n",
    "\n",
    "\n",
    "# Cleaning up variables to prevent loading data multiple times (which may cause memory issue)\n",
    "try:\n",
    "   del X_train, y_train\n",
    "   del X_test, y_test\n",
    "   print('Clear previously loaded data.')\n",
    "except:\n",
    "   pass\n",
    "\n",
    "# Invoke the above function to get our data.\n",
    "X_train, y_train, X_val, y_val, X_test, y_test, X_dev, y_dev = get_CIFAR10_data()\n",
    "print('Train data shape: ', X_train.shape)\n",
    "print('Train labels shape: ', y_train.shape)\n",
    "print('Validation data shape: ', X_val.shape)\n",
    "print('Validation labels shape: ', y_val.shape)\n",
    "print('Test data shape: ', X_test.shape)\n",
    "print('Test labels shape: ', y_test.shape)\n",
    "print('dev data shape: ', X_dev.shape)\n",
    "print('dev labels shape: ', y_dev.shape)"
   ]
  },
  {
   "cell_type": "markdown",
   "metadata": {},
   "source": [
    "## Softmax Classifier\n",
    "\n",
    "Your code for this section will all be written inside **cs231n/classifiers/softmax.py**. \n"
   ]
  },
  {
   "cell_type": "code",
   "execution_count": 3,
   "metadata": {},
   "outputs": [
    {
     "name": "stdout",
     "output_type": "stream",
     "text": [
      "loss: 2.337856\n",
      "sanity check: 2.302585\n"
     ]
    }
   ],
   "source": [
    "# First implement the naive softmax loss function with nested loops.\n",
    "# Open the file cs231n/classifiers/softmax.py and implement the\n",
    "# softmax_loss_naive function.\n",
    "\n",
    "from cs231n.classifiers.softmax import softmax_loss_naive\n",
    "import time\n",
    "\n",
    "# Generate a random softmax weight matrix and use it to compute the loss.\n",
    "W = np.random.randn(3073, 10) * 0.0001\n",
    "loss, grad = softmax_loss_naive(W, X_dev, y_dev, 0.0)\n",
    "\n",
    "# As a rough sanity check, our loss should be something close to -log(0.1).\n",
    "print('loss: %f' % loss)\n",
    "print('sanity check: %f' % (-np.log(0.1)))"
   ]
  },
  {
   "cell_type": "markdown",
   "metadata": {},
   "source": [
    "## Inline Question 1:\n",
    "Why do we expect our loss to be close to -log(0.1)? Explain briefly.**\n",
    "\n",
    "**Your answer:** *Fill this in*  \n",
    "While initilize the weight matrix using random, it is close to zero matrix, and there are 10 classes, so $e^{f_{y_i}}\\approx 1$, $\\sum_j e^{f_j} \\approx 10$, then we got close to $-log0.1$ \n",
    "\n"
   ]
  },
  {
   "cell_type": "code",
   "execution_count": 4,
   "metadata": {},
   "outputs": [
    {
     "name": "stdout",
     "output_type": "stream",
     "text": [
      "numerical: 1.843595 analytic: 1.843595, relative error: 3.386970e-08\n",
      "numerical: -2.171836 analytic: -2.171836, relative error: 4.436052e-08\n",
      "numerical: 3.368260 analytic: 3.368260, relative error: 1.754977e-08\n",
      "numerical: 2.015735 analytic: 2.015735, relative error: 2.324943e-08\n",
      "numerical: -1.947393 analytic: -1.947393, relative error: 1.199139e-08\n",
      "numerical: 3.023265 analytic: 3.023264, relative error: 1.871443e-08\n",
      "numerical: -1.464924 analytic: -1.464924, relative error: 1.848020e-08\n",
      "numerical: 3.073988 analytic: 3.073988, relative error: 7.839067e-09\n",
      "numerical: 4.201416 analytic: 4.201416, relative error: 4.409875e-09\n",
      "numerical: -1.011733 analytic: -1.011733, relative error: 8.756030e-09\n",
      "numerical: -0.300850 analytic: -0.300850, relative error: 1.989374e-07\n",
      "numerical: -1.136932 analytic: -1.136932, relative error: 3.903675e-08\n",
      "numerical: 1.083408 analytic: 1.083408, relative error: 1.056652e-08\n",
      "numerical: 0.068278 analytic: 0.068278, relative error: 5.068353e-07\n",
      "numerical: -2.971153 analytic: -2.971153, relative error: 4.357267e-09\n",
      "numerical: -1.184107 analytic: -1.184107, relative error: 2.774153e-08\n",
      "numerical: 0.358745 analytic: 0.358745, relative error: 1.622688e-08\n",
      "numerical: -3.982122 analytic: -3.982122, relative error: 1.469345e-08\n",
      "numerical: -1.937808 analytic: -1.937808, relative error: 1.031560e-08\n",
      "numerical: 0.088521 analytic: 0.088521, relative error: 7.012096e-08\n"
     ]
    }
   ],
   "source": [
    "# Complete the implementation of softmax_loss_naive and implement a (naive)\n",
    "# version of the gradient that uses nested loops.\n",
    "loss, grad = softmax_loss_naive(W, X_dev, y_dev, 0.0)\n",
    "\n",
    "# As we did for the SVM, use numeric gradient checking as a debugging tool.\n",
    "# The numeric gradient should be close to the analytic gradient.\n",
    "from cs231n.gradient_check import grad_check_sparse\n",
    "f = lambda w: softmax_loss_naive(w, X_dev, y_dev, 0.0)[0]\n",
    "grad_numerical = grad_check_sparse(f, W, grad, 10)\n",
    "\n",
    "# similar to SVM case, do another gradient check with regularization\n",
    "loss, grad = softmax_loss_naive(W, X_dev, y_dev, 5e1)\n",
    "f = lambda w: softmax_loss_naive(w, X_dev, y_dev, 5e1)[0]\n",
    "grad_numerical = grad_check_sparse(f, W, grad, 10)"
   ]
  },
  {
   "cell_type": "code",
   "execution_count": 5,
   "metadata": {},
   "outputs": [
    {
     "name": "stdout",
     "output_type": "stream",
     "text": [
      "naive loss: 2.337856e+00 computed in 0.131254s\n",
      "vectorized loss: 2.337856e+00 computed in 0.003920s\n",
      "Loss difference: 0.000000\n",
      "Gradient difference: 0.000000\n"
     ]
    }
   ],
   "source": [
    "# Now that we have a naive implementation of the softmax loss function and its gradient,\n",
    "# implement a vectorized version in softmax_loss_vectorized.\n",
    "# The two versions should compute the same results, but the vectorized version should be\n",
    "# much faster.\n",
    "tic = time.time()\n",
    "loss_naive, grad_naive = softmax_loss_naive(W, X_dev, y_dev, 0.000005)\n",
    "toc = time.time()\n",
    "print('naive loss: %e computed in %fs' % (loss_naive, toc - tic))\n",
    "\n",
    "from cs231n.classifiers.softmax import softmax_loss_vectorized\n",
    "tic = time.time()\n",
    "loss_vectorized, grad_vectorized = softmax_loss_vectorized(W, X_dev, y_dev, 0.000005)\n",
    "toc = time.time()\n",
    "print('vectorized loss: %e computed in %fs' % (loss_vectorized, toc - tic))\n",
    "\n",
    "# As we did for the SVM, we use the Frobenius norm to compare the two versions\n",
    "# of the gradient.\n",
    "grad_difference = np.linalg.norm(grad_naive - grad_vectorized, ord='fro')\n",
    "print('Loss difference: %f' % np.abs(loss_naive - loss_vectorized))\n",
    "print('Gradient difference: %f' % grad_difference)"
   ]
  },
  {
   "cell_type": "code",
   "execution_count": 6,
   "metadata": {},
   "outputs": [
    {
     "name": "stdout",
     "output_type": "stream",
     "text": [
      "iteration 0 / 1500: loss 386.019579\n",
      "iteration 100 / 1500: loss 233.375896\n",
      "iteration 200 / 1500: loss 141.844535\n",
      "iteration 300 / 1500: loss 86.620802\n",
      "iteration 400 / 1500: loss 53.142635\n",
      "iteration 500 / 1500: loss 32.947300\n",
      "iteration 600 / 1500: loss 20.572912\n",
      "iteration 700 / 1500: loss 13.360715\n",
      "iteration 800 / 1500: loss 8.889238\n",
      "iteration 900 / 1500: loss 6.163996\n",
      "iteration 1000 / 1500: loss 4.577827\n",
      "iteration 1100 / 1500: loss 3.542707\n",
      "iteration 1200 / 1500: loss 2.946995\n",
      "iteration 1300 / 1500: loss 2.565229\n",
      "iteration 1400 / 1500: loss 2.302058\n",
      "iteration 0 / 1500: loss 778.945279\n",
      "iteration 100 / 1500: loss 286.151371\n",
      "iteration 200 / 1500: loss 106.040212\n",
      "iteration 300 / 1500: loss 40.098643\n",
      "iteration 400 / 1500: loss 16.022198\n",
      "iteration 500 / 1500: loss 7.171375\n",
      "iteration 600 / 1500: loss 3.944700\n",
      "iteration 700 / 1500: loss 2.752865\n",
      "iteration 800 / 1500: loss 2.331744\n",
      "iteration 900 / 1500: loss 2.166432\n",
      "iteration 1000 / 1500: loss 2.135683\n",
      "iteration 1100 / 1500: loss 2.071146\n",
      "iteration 1200 / 1500: loss 2.150318\n",
      "iteration 1300 / 1500: loss 2.088522\n",
      "iteration 1400 / 1500: loss 2.071989\n",
      "iteration 0 / 1500: loss 391.306987\n",
      "iteration 100 / 1500: loss 33.002588\n",
      "iteration 200 / 1500: loss 4.416898\n",
      "iteration 300 / 1500: loss 2.195465\n",
      "iteration 400 / 1500: loss 1.994799\n",
      "iteration 500 / 1500: loss 1.956080\n",
      "iteration 600 / 1500: loss 2.081483\n",
      "iteration 700 / 1500: loss 2.092751\n",
      "iteration 800 / 1500: loss 2.072911\n",
      "iteration 900 / 1500: loss 2.019596\n",
      "iteration 1000 / 1500: loss 2.009858\n",
      "iteration 1100 / 1500: loss 2.084709\n",
      "iteration 1200 / 1500: loss 2.028109\n",
      "iteration 1300 / 1500: loss 2.042010\n",
      "iteration 1400 / 1500: loss 2.033292\n",
      "iteration 0 / 1500: loss 771.185211\n",
      "iteration 100 / 1500: loss 6.892605\n",
      "iteration 200 / 1500: loss 2.101765\n",
      "iteration 300 / 1500: loss 2.016483\n",
      "iteration 400 / 1500: loss 2.151611\n",
      "iteration 500 / 1500: loss 2.090233\n",
      "iteration 600 / 1500: loss 2.140101\n",
      "iteration 700 / 1500: loss 2.098112\n",
      "iteration 800 / 1500: loss 2.103397\n",
      "iteration 900 / 1500: loss 2.105552\n",
      "iteration 1000 / 1500: loss 2.092267\n",
      "iteration 1100 / 1500: loss 2.124139\n",
      "iteration 1200 / 1500: loss 2.081863\n",
      "iteration 1300 / 1500: loss 2.115103\n",
      "iteration 1400 / 1500: loss 2.115528\n",
      "lr 1.000000e-07 reg 2.500000e+04 train accuracy: 0.349653 val accuracy: 0.354000\n",
      "lr 1.000000e-07 reg 5.000000e+04 train accuracy: 0.333878 val accuracy: 0.347000\n",
      "lr 5.000000e-07 reg 2.500000e+04 train accuracy: 0.347673 val accuracy: 0.356000\n",
      "lr 5.000000e-07 reg 5.000000e+04 train accuracy: 0.326265 val accuracy: 0.323000\n",
      "best validation accuracy achieved during cross-validation: 0.356000\n"
     ]
    }
   ],
   "source": [
    "# Use the validation set to tune hyperparameters (regularization strength and\n",
    "# learning rate). You should experiment with different ranges for the learning\n",
    "# rates and regularization strengths; if you are careful you should be able to\n",
    "# get a classification accuracy of over 0.35 on the validation set.\n",
    "from cs231n.classifiers import Softmax\n",
    "results = {}\n",
    "best_val = -1\n",
    "best_softmax = None\n",
    "learning_rates = [1e-7, 5e-7]\n",
    "regularization_strengths = [2.5e4, 5e4]\n",
    "\n",
    "################################################################################\n",
    "# TODO:                                                                        #\n",
    "# Use the validation set to set the learning rate and regularization strength. #\n",
    "# This should be identical to the validation that you did for the SVM; save    #\n",
    "# the best trained softmax classifer in best_softmax.                          #\n",
    "################################################################################\n",
    "# Your code\n",
    "for lr in learning_rates:\n",
    "    for reg in regularization_strengths:\n",
    "        val_sm = Softmax()\n",
    "        val_loss = val_sm.train(X_train, y_train, lr, reg, num_iters=1500, verbose=True)\n",
    "        train_ypred = val_sm.predict(X_train)\n",
    "        train_accuracy = np.mean(train_ypred==y_train)\n",
    "        val_ypred = val_sm.predict(X_val)\n",
    "        val_accuracy = np.mean(val_ypred==y_val)\n",
    "        \n",
    "        results[(lr, reg)] = (train_accuracy, val_accuracy)\n",
    "        if best_val<val_accuracy:\n",
    "            best_val = val_accuracy\n",
    "            best_softmax = val_sm\n",
    "################################################################################\n",
    "#                              END OF YOUR CODE                                #\n",
    "################################################################################\n",
    "    \n",
    "# Print out results.\n",
    "for lr, reg in sorted(results):\n",
    "    train_accuracy, val_accuracy = results[(lr, reg)]\n",
    "    print('lr %e reg %e train accuracy: %f val accuracy: %f' % (\n",
    "                lr, reg, train_accuracy, val_accuracy))\n",
    "    \n",
    "print('best validation accuracy achieved during cross-validation: %f' % best_val)"
   ]
  },
  {
   "cell_type": "code",
   "execution_count": 7,
   "metadata": {},
   "outputs": [
    {
     "name": "stdout",
     "output_type": "stream",
     "text": [
      "softmax on raw pixels final test set accuracy: 0.364000\n"
     ]
    }
   ],
   "source": [
    "# evaluate on test set\n",
    "# Evaluate the best softmax on test set\n",
    "y_test_pred = best_softmax.predict(X_test)\n",
    "test_accuracy = np.mean(y_test == y_test_pred)\n",
    "print('softmax on raw pixels final test set accuracy: %f' % (test_accuracy, ))"
   ]
  },
  {
   "cell_type": "markdown",
   "metadata": {},
   "source": [
    "**Inline Question** - *True or False*\n",
    "\n",
    "It's possible to add a new datapoint to a training set that would leave the SVM loss unchanged, but this is not the case with the Softmax classifier loss.\n",
    "\n",
    "*Your answer*:  \n",
    "True\n",
    "*Your explanation*:  \n",
    "When the adding new datapoint $x$ satisifies $w_j^Tx - w_{y_i}^Tx + \\delta <0, j\\neq y_i$, i.e. the new datapoint belong to the right class, it doesn't change the SVM loss; but will change the softmax loss."
   ]
  },
  {
   "cell_type": "code",
   "execution_count": 8,
   "metadata": {},
   "outputs": [
    {
     "data": {
      "image/png": "[encoded data removed]",
      "text/plain": [
       "<Figure size 432x288 with 10 Axes>"
      ]
     },
     "metadata": {
      "needs_background": "light"
     },
     "output_type": "display_data"
    }
   ],
   "source": [
    "# Visualize the learned weights for each class\n",
    "w = best_softmax.W[:-1,:] # strip out the bias\n",
    "w = w.reshape(32, 32, 3, 10)\n",
    "\n",
    "w_min, w_max = np.min(w), np.max(w)\n",
    "\n",
    "classes = ['plane', 'car', 'bird', 'cat', 'deer', 'dog', 'frog', 'horse', 'ship', 'truck']\n",
    "for i in range(10):\n",
    "    plt.subplot(2, 5, i + 1)\n",
    "    \n",
    "    # Rescale the weights to be between 0 and 255\n",
    "    wimg = 255.0 * (w[:, :, :, i].squeeze() - w_min) / (w_max - w_min)\n",
    "    plt.imshow(wimg.astype('uint8'))\n",
    "    plt.axis('off')\n",
    "    plt.title(classes[i])"
   ]
  }
 ],
 "metadata": {
  "kernelspec": {
   "display_name": "Python 3",
   "language": "python",
   "name": "python3"
  },
  "language_info": {
   "codemirror_mode": {
    "name": "ipython",
    "version": 3
   },
   "file_extension": ".py",
   "mimetype": "text/x-python",
   "name": "python",
   "nbconvert_exporter": "python",
   "pygments_lexer": "ipython3",
   "version": "3.6.6"
  }
 },
 "nbformat": 4,
 "nbformat_minor": 1
}
